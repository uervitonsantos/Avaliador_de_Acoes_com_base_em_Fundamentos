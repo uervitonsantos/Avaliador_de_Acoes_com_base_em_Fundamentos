{
  "nbformat": 4,
  "nbformat_minor": 0,
  "metadata": {
    "colab": {
      "provenance": [],
      "authorship_tag": "ABX9TyPihSn/bvuZ7crZNNngUScO",
      "include_colab_link": true
    },
    "kernelspec": {
      "name": "python3",
      "display_name": "Python 3"
    },
    "language_info": {
      "name": "python"
    }
  },
  "cells": [
    {
      "cell_type": "markdown",
      "metadata": {
        "id": "view-in-github",
        "colab_type": "text"
      },
      "source": [
        "<a href=\"https://colab.research.google.com/github/uervitonsantos/Avaliador_de_Acoes_com_base_em_Fundamentos/blob/main/Dados_Fundamentalistas.ipynb\" target=\"_parent\"><img src=\"https://colab.research.google.com/assets/colab-badge.svg\" alt=\"Open In Colab\"/></a>"
      ]
    },
    {
      "cell_type": "markdown",
      "source": [
        "# **Avaliador de Ações com base em Fundamentos**\n"
      ],
      "metadata": {
        "id": "yORpsqQy-0Sl"
      }
    },
    {
      "cell_type": "markdown",
      "source": [
        "Este script Python realiza uma análise fundamentalista de ações da B3 utilizando os dados do site Fundamentus. O objetivo é pontuar e ranquear ações com base em critérios quantitativos de qualidade e valuation.\n",
        "\n",
        "⚙️ Funcionalidades\n",
        "Conecta-se automaticamente ao Fundamentus e carrega os dados financeiros das empresas listadas na bolsa.\n",
        "\n",
        "Aplica critérios básicos e avançados para avaliar a qualidade da empresa, tais como:\n",
        "\n",
        "Dividend Yield\n",
        "\n",
        "Preço/Lucro (P/L)\n",
        "\n",
        "ROE, ROIC, Margem Líquida\n",
        "\n",
        "Endividamento, Liquidez, Crescimento de Receita\n",
        "\n",
        "Para cada critério atendido, a empresa recebe 1 ponto.\n",
        "\n",
        "Ao final, exibe a pontuação de cada empresa e gera um ranking comparativo.\n",
        "\n",
        "⚠️ Penalidade\n",
        "Se uma ação apresentar Dividend Yield abaixo de 6%, ela recebe uma penalização automática, tendo sua pontuação total reduzida em 50%."
      ],
      "metadata": {
        "id": "LFCT-3hQ_A-v"
      }
    },
    {
      "cell_type": "code",
      "execution_count": 122,
      "metadata": {
        "id": "w5YeHXfjK5ax"
      },
      "outputs": [],
      "source": [
        "%%capture\n",
        "!pip install fundamentus"
      ]
    },
    {
      "cell_type": "code",
      "source": [
        "import fundamentus\n",
        "import pandas as pd\n",
        "import time"
      ],
      "metadata": {
        "id": "mv0cGDIbLj-E"
      },
      "execution_count": 123,
      "outputs": []
    },
    {
      "cell_type": "code",
      "source": [
        "# --- Definição dos critérios e regras (pontuação 1 ponto por critério atendido) ---\n",
        "CRITERIOS_BASICOS = {\n",
        "    'Div.Yield': lambda x: x >= 0.06,                # Preferência por empresas com bons dividendos (>6%)\n",
        "    'P/L': lambda x: 0 < x <= 15,                    # Evita empresas muito caras em relação ao lucro\n",
        "    'ROE': lambda x: x >= 0.10,                      # Retorno sobre patrimônio líquido decente\n",
        "    'Dív.Brut/ Patrim.': lambda x: x < 1,            # Empresas pouco endividadas\n",
        "    'Cresc. Rec.5a': lambda x: x >= 0.05             # Crescimento estável de receitas\n",
        "}"
      ],
      "metadata": {
        "id": "yPcc6cbStd7F"
      },
      "execution_count": 124,
      "outputs": []
    },
    {
      "cell_type": "code",
      "source": [
        "# --- Critérios avançados ---\n",
        "CRITERIOS_AVANCADOS = {\n",
        "    'P/VP': lambda x: x < 2,                         # Preço/Valor Patrimonial baixo\n",
        "    'EV/EBITDA': lambda x: x < 10,                   # Valuation ajustado pela dívida\n",
        "    'Mrg. Líq.': lambda x: x > 0.10,                 # Margem líquida acima de 10%\n",
        "    'ROIC': lambda x: x > 0.10,                      # Retorno sobre capital investido\n",
        "    'Liq. Corr.': lambda x: x > 1.5,                 # Liquidez corrente acima de 1.5\n",
        "    'Liq.2meses': lambda x: x > 1000000              # Liquidez de mercado razoável (> R$1M)\n",
        "}"
      ],
      "metadata": {
        "id": "J5zg53PXzC09"
      },
      "execution_count": 125,
      "outputs": []
    },
    {
      "cell_type": "code",
      "source": [
        "# --- Setores priorizados (com base nos códigos 1, 2, 3, 5, 32, 33, 35, 38, 42) ---\n",
        "SETORES_PRIORIZADOS = {\n",
        "    'Agropecuária',\n",
        "    'Alimentos Processados',\n",
        "    'Automóveis e Motocicletas',\n",
        "    'Bancos',\n",
        "    'Mineração',\n",
        "    'Papel e Celulose',\n",
        "    'Petróleo, Gás e Biocombustíveis',\n",
        "    'Saúde',\n",
        "    'Tecnologia da Informação'\n",
        "}"
      ],
      "metadata": {
        "id": "JESpolq66xVN"
      },
      "execution_count": 126,
      "outputs": []
    },
    {
      "cell_type": "code",
      "source": [
        "# --- Combina os dois grupos de critérios ---\n",
        "CRITERIOS = {**CRITERIOS_BASICOS, **CRITERIOS_AVANCADOS}"
      ],
      "metadata": {
        "id": "CxnDGkvhzGWO"
      },
      "execution_count": 127,
      "outputs": []
    },
    {
      "cell_type": "code",
      "source": [
        "# --- Carrega os dados do Fundamentus ---\n",
        "def carregar_dados_fundamentus():\n",
        "    print(\"⏳ Carregando dados do Fundamentus...\")\n",
        "    df = fundamentus.get_resultado_raw()\n",
        "    print(\"✅ Dados carregados com sucesso!\")\n",
        "    print(df.columns)\n",
        "    return df"
      ],
      "metadata": {
        "id": "WV6hTxiStjM_"
      },
      "execution_count": 128,
      "outputs": []
    },
    {
      "cell_type": "code",
      "source": [
        "# --- Formata valores numéricos e percentuais ---\n",
        "def formatar_valor(valor, percentual=False):\n",
        "    if percentual:\n",
        "        return f\"{valor * 100:.1f}%\"\n",
        "    elif valor >= 1000:\n",
        "        return f\"R${valor:,.0f}\".replace(\",\", \".\")\n",
        "    return f\"{valor:.2f}\""
      ],
      "metadata": {
        "id": "E1eBke-Otogi"
      },
      "execution_count": 129,
      "outputs": []
    },
    {
      "cell_type": "code",
      "source": [
        "# --- Avalia uma ação com base nos critérios definidos ---\n",
        "def avaliar_acao(ticker, df):\n",
        "    print(f\"\\n🔍 Analisando {ticker}...\")\n",
        "\n",
        "    if ticker not in df.index:\n",
        "        print(f\"⚠️  {ticker} não encontrada nos dados.\")\n",
        "        return 0\n",
        "\n",
        "    dados_acao = df.loc[ticker]\n",
        "    pontuacao = 0\n",
        "    total_criterios = len(CRITERIOS)\n",
        "\n",
        "    for criterio, regra in CRITERIOS.items():\n",
        "        try:\n",
        "            valor = dados_acao[criterio]\n",
        "\n",
        "            if pd.isna(valor):\n",
        "                print(f\"  ⚠️  '{criterio}' é NaN. Ignorando.\")\n",
        "                continue\n",
        "\n",
        "            # Define quais critérios são percentuais\n",
        "            criterios_percentuais = ['Div.Yield', 'ROE', 'Cresc. Rec.5a', 'Mrg. Líq.', 'ROIC']\n",
        "            valor_formatado = formatar_valor(valor, percentual=criterio in criterios_percentuais)\n",
        "\n",
        "            if regra(valor):\n",
        "                pontuacao += 1\n",
        "                print(f\"  ✅ {criterio}: {valor_formatado} (Critério atendido)\")\n",
        "            else:\n",
        "                print(f\"  ❌ {criterio}: {valor_formatado} (Critério não atendido)\")\n",
        "\n",
        "        except KeyError:\n",
        "            print(f\"  ⚠️  Coluna '{criterio}' não encontrada.\")\n",
        "        except Exception as e:\n",
        "            print(f\"  ❌ Erro ao processar '{criterio}': {e}\")\n",
        "\n",
        "    # # --- Verifica setor priorizado ---\n",
        "    # try:\n",
        "    #     df_papel = fundamentus.get_papel(ticker)\n",
        "    #     setor = df_papel.loc[ticker, 'Setor']\n",
        "\n",
        "    #     if setor in SETORES_PRIORIZADOS:\n",
        "    #         pontuacao += 1\n",
        "    #         print(f\"  ⭐ Setor '{setor}' é priorizado! (+1 ponto extra)\")\n",
        "    #     else:\n",
        "    #         print(f\"  ℹ️  Setor '{setor}' não está entre os priorizados.\")\n",
        "\n",
        "    # except Exception as e:\n",
        "    #     print(f\"  ⚠️  Erro ao verificar setor de {ticker}: {e}\")\n",
        "\n",
        "    # --- Penalização por Div.Yield baixo (<6%) ---\n",
        "    try:\n",
        "        dy = dados_acao['Div.Yield']\n",
        "        if not pd.isna(dy) and dy < 0.06:\n",
        "            pontuacao_original = pontuacao\n",
        "            pontuacao = max(0, pontuacao * 0.5)\n",
        "            print(f\"  ⚠️ Dividend Yield abaixo de 6%: {dy:.2%} → Penalização aplicada (50% da pontuação)\")\n",
        "            print(f\"     Pontuação ajustada de {pontuacao_original:.1f} para {pontuacao:.1f}\")\n",
        "    except Exception as e:\n",
        "        print(f\"  ⚠️ Erro ao verificar Div.Yield para penalização: {e}\")\n",
        "\n",
        "    percentual_total = (pontuacao / (total_criterios + 1)) * 100\n",
        "    print(f\"📊 Pontuação final para {ticker}: {pontuacao:.1f}/{total_criterios + 1} ({percentual_total:.2f}%)\")\n",
        "    return pontuacao"
      ],
      "metadata": {
        "id": "-X6pMiZjtsU2"
      },
      "execution_count": 133,
      "outputs": []
    },
    {
      "cell_type": "code",
      "source": [
        "# --- Execução principal ---\n",
        "def executar_avaliacao(lista_acoes):\n",
        "    df = carregar_dados_fundamentus()\n",
        "    resultados = []\n",
        "\n",
        "    for acao in lista_acoes:\n",
        "        pontuacao = avaliar_acao(acao, df)\n",
        "        resultados.append((acao, pontuacao))\n",
        "\n",
        "    print(\"\\n📋 Ranking Final:\")\n",
        "    df_resultado = pd.DataFrame(resultados, columns=[\"Ação\", \"Pontuação\"]).sort_values(by=\"Pontuação\", ascending=False)\n",
        "    print(df_resultado)\n",
        "\n",
        "    return df_resultado"
      ],
      "metadata": {
        "id": "FbK9cUxccytN"
      },
      "execution_count": 134,
      "outputs": []
    },
    {
      "cell_type": "code",
      "source": [
        "# --- Executar se for o módulo principal ---\n",
        "if __name__ == \"__main__\":\n",
        "    acoes = ['OIBR3', 'ITUB4', 'PETR4', 'BBAS3', 'MGLU3']\n",
        "    executar_avaliacao(acoes)"
      ],
      "metadata": {
        "colab": {
          "base_uri": "https://localhost:8080/"
        },
        "id": "K45MsMLGt3Gr",
        "outputId": "24be0b9e-0f07-42f8-dc34-53f7b3039b73"
      },
      "execution_count": 135,
      "outputs": [
        {
          "output_type": "stream",
          "name": "stdout",
          "text": [
            "⏳ Carregando dados do Fundamentus...\n"
          ]
        },
        {
          "output_type": "stream",
          "name": "stderr",
          "text": [
            "/usr/local/lib/python3.11/dist-packages/fundamentus/resultado.py:50: FutureWarning: Passing literal html to 'read_html' is deprecated and will be removed in a future version. To read from a literal string, wrap it in a 'StringIO' object.\n",
            "  df = pd.read_html(content.text, decimal=\",\", thousands='.')[0]\n"
          ]
        },
        {
          "output_type": "stream",
          "name": "stdout",
          "text": [
            "✅ Dados carregados com sucesso!\n",
            "Index(['Cotação', 'P/L', 'P/VP', 'PSR', 'Div.Yield', 'P/Ativo', 'P/Cap.Giro',\n",
            "       'P/EBIT', 'P/Ativ Circ.Liq', 'EV/EBIT', 'EV/EBITDA', 'Mrg Ebit',\n",
            "       'Mrg. Líq.', 'Liq. Corr.', 'ROIC', 'ROE', 'Liq.2meses', 'Patrim. Líq',\n",
            "       'Dív.Brut/ Patrim.', 'Cresc. Rec.5a'],\n",
            "      dtype='object', name='Multiples')\n",
            "\n",
            "🔍 Analisando OIBR3...\n",
            "  ❌ Div.Yield: 0.0% (Critério não atendido)\n",
            "  ✅ P/L: 0.02 (Critério atendido)\n",
            "  ❌ ROE: -95.9% (Critério não atendido)\n",
            "  ✅ Dív.Brut/ Patrim.: -0.77 (Critério atendido)\n",
            "  ❌ Cresc. Rec.5a: -25.5% (Critério não atendido)\n",
            "  ✅ P/VP: -0.02 (Critério atendido)\n",
            "  ✅ EV/EBITDA: -4.88 (Critério atendido)\n",
            "  ✅ Mrg. Líq.: 847.4% (Critério atendido)\n",
            "  ❌ ROIC: -18.2% (Critério não atendido)\n",
            "  ❌ Liq. Corr.: 0.70 (Critério não atendido)\n",
            "  ✅ Liq.2meses: R$4.297.340 (Critério atendido)\n",
            "  ⚠️ Dividend Yield abaixo de 6%: 0.00% → Penalização aplicada (50% da pontuação)\n",
            "     Pontuação ajustada de 6.0 para 3.0\n",
            "📊 Pontuação final para OIBR3: 3.0/12 (25.00%)\n",
            "\n",
            "🔍 Analisando ITUB4...\n",
            "  ✅ Div.Yield: 7.5% (Critério atendido)\n",
            "  ✅ P/L: 9.95 (Critério atendido)\n",
            "  ✅ ROE: 20.3% (Critério atendido)\n",
            "  ✅ Dív.Brut/ Patrim.: 0.00 (Critério atendido)\n",
            "  ✅ Cresc. Rec.5a: 79.8% (Critério atendido)\n",
            "  ❌ P/VP: 2.02 (Critério não atendido)\n",
            "  ✅ EV/EBITDA: 0.00 (Critério atendido)\n",
            "  ❌ Mrg. Líq.: 0.0% (Critério não atendido)\n",
            "  ❌ ROIC: 0.0% (Critério não atendido)\n",
            "  ❌ Liq. Corr.: 0.00 (Critério não atendido)\n",
            "  ✅ Liq.2meses: R$854.219.000 (Critério atendido)\n",
            "📊 Pontuação final para ITUB4: 7.0/12 (58.33%)\n",
            "\n",
            "🔍 Analisando PETR4...\n",
            "  ✅ Div.Yield: 18.0% (Critério atendido)\n",
            "  ✅ P/L: 8.32 (Critério atendido)\n",
            "  ✅ ROE: 12.2% (Critério atendido)\n",
            "  ✅ Dív.Brut/ Patrim.: 0.94 (Critério atendido)\n",
            "  ✅ Cresc. Rec.5a: 11.5% (Critério atendido)\n",
            "  ✅ P/VP: 1.01 (Critério atendido)\n",
            "  ✅ EV/EBITDA: 2.60 (Critério atendido)\n",
            "  ❌ Mrg. Líq.: 9.8% (Critério não atendido)\n",
            "  ✅ ROIC: 19.6% (Critério atendido)\n",
            "  ❌ Liq. Corr.: 0.72 (Critério não atendido)\n",
            "  ✅ Liq.2meses: R$1.303.750.000 (Critério atendido)\n",
            "📊 Pontuação final para PETR4: 9.0/12 (75.00%)\n",
            "\n",
            "🔍 Analisando BBAS3...\n",
            "  ✅ Div.Yield: 12.1% (Critério atendido)\n",
            "  ✅ P/L: 3.69 (Critério atendido)\n",
            "  ✅ ROE: 19.1% (Critério atendido)\n",
            "  ✅ Dív.Brut/ Patrim.: 0.00 (Critério atendido)\n",
            "  ✅ Cresc. Rec.5a: 15.5% (Critério atendido)\n",
            "  ✅ P/VP: 0.70 (Critério atendido)\n",
            "  ✅ EV/EBITDA: 0.00 (Critério atendido)\n",
            "  ❌ Mrg. Líq.: 0.0% (Critério não atendido)\n",
            "  ❌ ROIC: 0.0% (Critério não atendido)\n",
            "  ❌ Liq. Corr.: 0.00 (Critério não atendido)\n",
            "  ✅ Liq.2meses: R$829.427.000 (Critério atendido)\n",
            "📊 Pontuação final para BBAS3: 8.0/12 (66.67%)\n",
            "\n",
            "🔍 Analisando MGLU3...\n",
            "  ❌ Div.Yield: 3.2% (Critério não atendido)\n",
            "  ❌ P/L: 16.26 (Critério não atendido)\n",
            "  ❌ ROE: 3.8% (Critério não atendido)\n",
            "  ✅ Dív.Brut/ Patrim.: 0.40 (Critério atendido)\n",
            "  ❌ Cresc. Rec.5a: 3.8% (Critério não atendido)\n",
            "  ✅ P/VP: 0.62 (Critério atendido)\n",
            "  ✅ EV/EBITDA: 3.16 (Critério atendido)\n",
            "  ❌ Mrg. Líq.: 1.1% (Critério não atendido)\n",
            "  ❌ ROIC: 7.2% (Critério não atendido)\n",
            "  ❌ Liq. Corr.: 1.20 (Critério não atendido)\n",
            "  ✅ Liq.2meses: R$285.234.000 (Critério atendido)\n",
            "  ⚠️ Dividend Yield abaixo de 6%: 3.20% → Penalização aplicada (50% da pontuação)\n",
            "     Pontuação ajustada de 4.0 para 2.0\n",
            "📊 Pontuação final para MGLU3: 2.0/12 (16.67%)\n",
            "\n",
            "📋 Ranking Final:\n",
            "    Ação  Pontuação\n",
            "2  PETR4        9.0\n",
            "3  BBAS3        8.0\n",
            "1  ITUB4        7.0\n",
            "0  OIBR3        3.0\n",
            "4  MGLU3        2.0\n"
          ]
        }
      ]
    }
  ]
}