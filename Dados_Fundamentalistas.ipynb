{
  "nbformat": 4,
  "nbformat_minor": 0,
  "metadata": {
    "colab": {
      "provenance": [],
      "include_colab_link": true
    },
    "kernelspec": {
      "name": "python3",
      "display_name": "Python 3"
    },
    "language_info": {
      "name": "python"
    }
  },
  "cells": [
    {
      "cell_type": "markdown",
      "metadata": {
        "id": "view-in-github",
        "colab_type": "text"
      },
      "source": [
        "<a href=\"https://colab.research.google.com/github/uervitonsantos/Avaliador_de_Acoes_com_base_em_Fundamentos/blob/main/Dados_Fundamentalistas.ipynb\" target=\"_parent\"><img src=\"https://colab.research.google.com/assets/colab-badge.svg\" alt=\"Open In Colab\"/></a>"
      ]
    },
    {
      "cell_type": "markdown",
      "source": [
        "# **Avaliador de Ações com base em Fundamentos**\n"
      ],
      "metadata": {
        "id": "yORpsqQy-0Sl"
      }
    },
    {
      "cell_type": "markdown",
      "source": [
        "Este script Python realiza uma análise fundamentalista de ações da B3 utilizando os dados do site Fundamentus. O objetivo é pontuar e ranquear ações com base em critérios quantitativos de qualidade e valuation.\n",
        "\n",
        "⚙️ Funcionalidades\n",
        "Conecta-se automaticamente ao Fundamentus e carrega os dados financeiros das empresas listadas na bolsa.\n",
        "\n",
        "Aplica critérios básicos e avançados para avaliar a qualidade da empresa, tais como:\n",
        "\n",
        "Dividend Yield\n",
        "\n",
        "Preço/Lucro (P/L)\n",
        "\n",
        "ROE, ROIC, Margem Líquida\n",
        "\n",
        "Endividamento, Liquidez, Crescimento de Receita\n",
        "\n",
        "Para cada critério atendido, a empresa recebe 1 ponto.\n",
        "\n",
        "Ao final, exibe a pontuação de cada empresa e gera um ranking comparativo.\n",
        "\n",
        "⚠️ Penalidade\n",
        "Se uma ação apresentar Dividend Yield abaixo de 6%, ela recebe uma penalização automática, tendo sua pontuação total reduzida em 50%."
      ],
      "metadata": {
        "id": "LFCT-3hQ_A-v"
      }
    },
    {
      "cell_type": "code",
      "execution_count": 29,
      "metadata": {
        "id": "w5YeHXfjK5ax"
      },
      "outputs": [],
      "source": [
        "%%capture\n",
        "!pip install fundamentus"
      ]
    },
    {
      "cell_type": "code",
      "source": [
        "import fundamentus\n",
        "import pandas as pd\n",
        "import time\n",
        "import os"
      ],
      "metadata": {
        "id": "mv0cGDIbLj-E"
      },
      "execution_count": 30,
      "outputs": []
    },
    {
      "cell_type": "code",
      "source": [
        "# --- Caminho do OneDrive (ajuste se necessário) ---\n",
        "caminho_onedrive = os.path.expanduser('/content/drive/MyDrive/datasets/dados-acoes')  # ou outro caminho como 'C:/Users/SeuUsuario/OneDrive/...'\n",
        "nome_arquivo = 'pontuacao-dados-fundamentalistas.csv'\n",
        "caminho_completo = os.path.join(caminho_onedrive, nome_arquivo)"
      ],
      "metadata": {
        "id": "PWmoGyt9HllP"
      },
      "execution_count": 31,
      "outputs": []
    },
    {
      "cell_type": "code",
      "source": [
        "# --- Definição dos critérios e regras (pontuação 1 ponto por critério atendido) ---\n",
        "CRITERIOS_BASICOS = {\n",
        "    'Div.Yield': lambda x: x >= 0.06,                # Preferência por empresas com bons dividendos (>6%)\n",
        "    'P/L': lambda x: 0 < x <= 15,                    # Evita empresas muito caras em relação ao lucro\n",
        "    'ROE': lambda x: x >= 0.10,                      # Retorno sobre patrimônio líquido decente\n",
        "    'Dív.Brut/ Patrim.': lambda x: x < 1,            # Empresas pouco endividadas\n",
        "    'Cresc. Rec.5a': lambda x: x >= 0.05             # Crescimento estável de receitas\n",
        "}"
      ],
      "metadata": {
        "id": "yPcc6cbStd7F"
      },
      "execution_count": 32,
      "outputs": []
    },
    {
      "cell_type": "code",
      "source": [
        "# --- Critérios avançados ---\n",
        "CRITERIOS_AVANCADOS = {\n",
        "    'P/VP': lambda x: x < 2,                         # Preço/Valor Patrimonial baixo\n",
        "    'EV/EBITDA': lambda x: x < 10,                   # Valuation ajustado pela dívida\n",
        "    'Mrg. Líq.': lambda x: x > 0.10,                 # Margem líquida acima de 10%\n",
        "    'ROIC': lambda x: x > 0.10,                      # Retorno sobre capital investido\n",
        "    'Liq. Corr.': lambda x: x > 1.5,                 # Liquidez corrente acima de 1.5\n",
        "    'Liq.2meses': lambda x: x > 1000000              # Liquidez de mercado razoável (> R$1M)\n",
        "}"
      ],
      "metadata": {
        "id": "J5zg53PXzC09"
      },
      "execution_count": 33,
      "outputs": []
    },
    {
      "cell_type": "code",
      "source": [
        "# --- Setores priorizados (com base nos códigos 1, 2, 3, 5, 32, 33, 35, 38, 42) ---\n",
        "SETORES_PRIORIZADOS = {\n",
        "    'Agropecuária',\n",
        "    'Água e Saneamento',\n",
        "    'Alimentos Processados',\n",
        "    'Material de Transporte',\n",
        "    'Energia Elétrica',\n",
        "    'Máquinas e Equipamentos',\n",
        "    'Previdência e Seguros',\n",
        "    'Automóveis e Motocicletas'\n",
        "    'Químicos',\n",
        "    'Construção Civil',\n",
        "    'Telecomunicações',\n",
        "    'Serv.Méd.Hospit. Análises e Diagnósticos',\n",
        "    'Tecidos, Vestuário e Calçados',\n",
        "    'Mineração',\n",
        "    'Madeira e Papel',\n",
        "    'Intermediários Financeiros',\n",
        "    'Petróleo, Gás e Biocombustíveis',\n",
        "}"
      ],
      "metadata": {
        "id": "JESpolq66xVN"
      },
      "execution_count": 34,
      "outputs": []
    },
    {
      "cell_type": "code",
      "source": [
        "# --- Combina os dois grupos de critérios ---\n",
        "CRITERIOS = {**CRITERIOS_BASICOS, **CRITERIOS_AVANCADOS}"
      ],
      "metadata": {
        "id": "CxnDGkvhzGWO"
      },
      "execution_count": 35,
      "outputs": []
    },
    {
      "cell_type": "code",
      "source": [
        "# --- Carrega os dados do Fundamentus ---\n",
        "def carregar_dados_fundamentus():\n",
        "    print(\"⏳ Carregando dados do Fundamentus...\")\n",
        "    df = fundamentus.get_resultado_raw()\n",
        "    print(\"✅ Dados carregados com sucesso!\")\n",
        "    return df"
      ],
      "metadata": {
        "id": "WV6hTxiStjM_"
      },
      "execution_count": 36,
      "outputs": []
    },
    {
      "cell_type": "code",
      "source": [
        "# --- Formata valores numéricos e percentuais ---\n",
        "def formatar_valor(valor, percentual=False):\n",
        "    if percentual:\n",
        "        return f\"{valor * 100:.1f}%\"\n",
        "    elif valor >= 1000:\n",
        "        return f\"R${valor:,.0f}\".replace(\",\", \".\")\n",
        "    return f\"{valor:.2f}\""
      ],
      "metadata": {
        "id": "E1eBke-Otogi"
      },
      "execution_count": 37,
      "outputs": []
    },
    {
      "cell_type": "code",
      "source": [
        "# --- Avalia uma ação com base nos critérios definidos ---\n",
        "def avaliar_acao(ticker, df):\n",
        "    print(f\"\\n🔍 Analisando {ticker}...\")\n",
        "\n",
        "    if ticker not in df.index:\n",
        "        print(f\"⚠️  {ticker} não encontrada nos dados.\")\n",
        "        return 0\n",
        "\n",
        "    dados_acao = df.loc[ticker]\n",
        "    pontuacao = 0\n",
        "    total_criterios = len(CRITERIOS)\n",
        "\n",
        "    for criterio, regra in CRITERIOS.items():\n",
        "        try:\n",
        "            valor = dados_acao[criterio]\n",
        "\n",
        "            if pd.isna(valor):\n",
        "                print(f\"  ⚠️  '{criterio}' é NaN. Ignorando.\")\n",
        "                continue\n",
        "\n",
        "            # Define quais critérios são percentuais\n",
        "            criterios_percentuais = ['Div.Yield', 'ROE', 'Cresc. Rec.5a', 'Mrg. Líq.', 'ROIC']\n",
        "            valor_formatado = formatar_valor(valor, percentual=criterio in criterios_percentuais)\n",
        "\n",
        "            if regra(valor):\n",
        "                pontuacao += 1\n",
        "                print(f\"  ✅ {criterio}: {valor_formatado} (Critério atendido)\")\n",
        "            else:\n",
        "                print(f\"  ❌ {criterio}: {valor_formatado} (Critério não atendido)\")\n",
        "\n",
        "        except KeyError:\n",
        "            print(f\"  ⚠️  Coluna '{criterio}' não encontrada.\")\n",
        "        except Exception as e:\n",
        "            print(f\"  ❌ Erro ao processar '{criterio}': {e}\")\n",
        "\n",
        "    # # --- Verifica setor priorizado ---\n",
        "    try:\n",
        "        df_papel = fundamentus.get_papel(ticker)\n",
        "        setor = df_papel.loc[ticker, 'Setor']\n",
        "\n",
        "        if setor in SETORES_PRIORIZADOS:\n",
        "            pontuacao += 1\n",
        "            print(f\"  ⭐ Setor '{setor}' é priorizado! (+1 ponto extra)\")\n",
        "        else:\n",
        "            print(f\"  ℹ️  Setor '{setor}' não está entre os priorizados.\")\n",
        "\n",
        "    except Exception as e:\n",
        "        print(f\"  ⚠️  Erro ao verificar setor de {ticker}: {e}\")\n",
        "\n",
        "    # --- Penalização por Div.Yield baixo (<6%) ---\n",
        "    try:\n",
        "        dy = dados_acao['Div.Yield']\n",
        "        if not pd.isna(dy) and dy < 0.06:\n",
        "            pontuacao_original = pontuacao\n",
        "            pontuacao = max(0, pontuacao * 0.5)\n",
        "            print(f\"  ⚠️ Dividend Yield abaixo de 6%: {dy:.2%} → Penalização aplicada (50% da pontuação)\")\n",
        "            print(f\"     Pontuação ajustada de {pontuacao_original:.1f} para {pontuacao:.1f}\")\n",
        "    except Exception as e:\n",
        "        print(f\"  ⚠️ Erro ao verificar Div.Yield para penalização: {e}\")\n",
        "\n",
        "    percentual_total = (pontuacao / (total_criterios + 1)) * 100\n",
        "    print(f\"📊 Pontuação final para {ticker}: {pontuacao:.1f}/{total_criterios + 1} ({percentual_total:.2f}%)\")\n",
        "\n",
        "    return percentual_total"
      ],
      "metadata": {
        "id": "-X6pMiZjtsU2"
      },
      "execution_count": 38,
      "outputs": []
    },
    {
      "cell_type": "code",
      "source": [
        "# --- Execução principal ---\n",
        "def executar_avaliacao(lista_acoes):\n",
        "    df = carregar_dados_fundamentus()\n",
        "    resultados = []\n",
        "\n",
        "    for acao in lista_acoes:\n",
        "        pontuacao = avaliar_acao(acao, df)\n",
        "        resultados.append((acao, pontuacao))\n",
        "\n",
        "    print(\"\\n📋 Ranking Final:\")\n",
        "    df_resultado = pd.DataFrame(resultados, columns=[\"Ação\", \"Pontuação\"]).sort_values(by=\"Pontuação\", ascending=False)\n",
        "    df_resultado['Pontuação'] = df_resultado['Pontuação'].map(lambda x: f\"{x:.2f}\")\n",
        "\n",
        "    print(df_resultado)\n",
        "\n",
        "    # --- Salvando CSV ---\n",
        "    try:\n",
        "        df_resultado.to_csv(caminho_completo, index=False, sep=';', encoding='utf-8-sig')\n",
        "        print(f\"\\n💾 Arquivo CSV salvo com sucesso em: {caminho_completo}\")\n",
        "    except Exception as e:\n",
        "        print(f\"❌ Erro ao salvar o arquivo CSV: {e}\")\n",
        "\n",
        "    return df_resultado"
      ],
      "metadata": {
        "id": "FbK9cUxccytN"
      },
      "execution_count": 39,
      "outputs": []
    },
    {
      "cell_type": "code",
      "source": [
        "# --- Executar se for o módulo principal ---\n",
        "if __name__ == \"__main__\":\n",
        "    acoes = ['VALE3', 'ITUB4', 'PETR4', 'BBAS3', 'CXSE3']\n",
        "    executar_avaliacao(acoes)"
      ],
      "metadata": {
        "colab": {
          "base_uri": "https://localhost:8080/"
        },
        "id": "K45MsMLGt3Gr",
        "outputId": "616c607a-aa0b-4a34-8f8f-70b17e13ab14"
      },
      "execution_count": 40,
      "outputs": [
        {
          "output_type": "stream",
          "name": "stdout",
          "text": [
            "⏳ Carregando dados do Fundamentus...\n"
          ]
        },
        {
          "output_type": "stream",
          "name": "stderr",
          "text": [
            "/usr/local/lib/python3.11/dist-packages/fundamentus/resultado.py:50: FutureWarning: Passing literal html to 'read_html' is deprecated and will be removed in a future version. To read from a literal string, wrap it in a 'StringIO' object.\n",
            "  df = pd.read_html(content.text, decimal=\",\", thousands='.')[0]\n"
          ]
        },
        {
          "output_type": "stream",
          "name": "stdout",
          "text": [
            "✅ Dados carregados com sucesso!\n",
            "\n",
            "🔍 Analisando VALE3...\n",
            "  ✅ Div.Yield: 9.0% (Critério atendido)\n",
            "  ✅ P/L: 7.62 (Critério atendido)\n",
            "  ✅ ROE: 15.6% (Critério atendido)\n",
            "  ✅ Dív.Brut/ Patrim.: 0.46 (Critério atendido)\n",
            "  ❌ Cresc. Rec.5a: -6.0% (Critério não atendido)\n",
            "  ✅ P/VP: 1.19 (Critério atendido)\n",
            "  ✅ EV/EBITDA: 3.50 (Critério atendido)\n",
            "  ✅ Mrg. Líq.: 14.3% (Critério atendido)\n",
            "  ✅ ROIC: 16.6% (Critério atendido)\n",
            "  ❌ Liq. Corr.: 1.11 (Critério não atendido)\n",
            "  ✅ Liq.2meses: R$879.487.000 (Critério atendido)\n",
            "  ⭐ Setor 'Mineração' é priorizado! (+1 ponto extra)\n",
            "📊 Pontuação final para VALE3: 10.0/12 (83.33%)\n",
            "\n",
            "🔍 Analisando ITUB4...\n",
            "  ✅ Div.Yield: 7.4% (Critério atendido)\n",
            "  ✅ P/L: 10.03 (Critério atendido)\n",
            "  ✅ ROE: 20.3% (Critério atendido)\n",
            "  ✅ Dív.Brut/ Patrim.: 0.00 (Critério atendido)\n",
            "  ✅ Cresc. Rec.5a: 79.8% (Critério atendido)\n",
            "  ❌ P/VP: 2.04 (Critério não atendido)\n",
            "  ✅ EV/EBITDA: 0.00 (Critério atendido)\n",
            "  ❌ Mrg. Líq.: 0.0% (Critério não atendido)\n",
            "  ❌ ROIC: 0.0% (Critério não atendido)\n",
            "  ❌ Liq. Corr.: 0.00 (Critério não atendido)\n",
            "  ✅ Liq.2meses: R$852.892.000 (Critério atendido)\n",
            "  ⭐ Setor 'Intermediários Financeiros' é priorizado! (+1 ponto extra)\n",
            "📊 Pontuação final para ITUB4: 8.0/12 (66.67%)\n",
            "\n",
            "🔍 Analisando PETR4...\n",
            "  ✅ Div.Yield: 17.6% (Critério atendido)\n",
            "  ✅ P/L: 8.50 (Critério atendido)\n",
            "  ✅ ROE: 12.2% (Critério atendido)\n",
            "  ✅ Dív.Brut/ Patrim.: 0.94 (Critério atendido)\n",
            "  ✅ Cresc. Rec.5a: 11.5% (Critério atendido)\n",
            "  ✅ P/VP: 1.03 (Critério atendido)\n",
            "  ✅ EV/EBITDA: 2.63 (Critério atendido)\n",
            "  ❌ Mrg. Líq.: 9.8% (Critério não atendido)\n",
            "  ✅ ROIC: 19.6% (Critério atendido)\n",
            "  ❌ Liq. Corr.: 0.72 (Critério não atendido)\n",
            "  ✅ Liq.2meses: R$1.311.760.000 (Critério atendido)\n",
            "  ⭐ Setor 'Petróleo, Gás e Biocombustíveis' é priorizado! (+1 ponto extra)\n",
            "📊 Pontuação final para PETR4: 10.0/12 (83.33%)\n",
            "\n",
            "🔍 Analisando BBAS3...\n",
            "  ✅ Div.Yield: 11.1% (Critério atendido)\n",
            "  ✅ P/L: 3.69 (Critério atendido)\n",
            "  ✅ ROE: 19.1% (Critério atendido)\n",
            "  ✅ Dív.Brut/ Patrim.: 0.00 (Critério atendido)\n",
            "  ✅ Cresc. Rec.5a: 15.5% (Critério atendido)\n",
            "  ✅ P/VP: 0.70 (Critério atendido)\n",
            "  ✅ EV/EBITDA: 0.00 (Critério atendido)\n",
            "  ❌ Mrg. Líq.: 0.0% (Critério não atendido)\n",
            "  ❌ ROIC: 0.0% (Critério não atendido)\n",
            "  ❌ Liq. Corr.: 0.00 (Critério não atendido)\n",
            "  ✅ Liq.2meses: R$824.129.000 (Critério atendido)\n"
          ]
        },
        {
          "output_type": "stream",
          "name": "stderr",
          "text": [
            "/usr/local/lib/python3.11/dist-packages/fundamentus/detalhes.py:232: FutureWarning: Passing literal html to 'read_html' is deprecated and will be removed in a future version. To read from a literal string, wrap it in a 'StringIO' object.\n",
            "  tables_html = pd.read_html(content.text, decimal=\",\", thousands='.')\n",
            "/usr/local/lib/python3.11/dist-packages/fundamentus/detalhes.py:232: FutureWarning: Passing literal html to 'read_html' is deprecated and will be removed in a future version. To read from a literal string, wrap it in a 'StringIO' object.\n",
            "  tables_html = pd.read_html(content.text, decimal=\",\", thousands='.')\n",
            "/usr/local/lib/python3.11/dist-packages/fundamentus/detalhes.py:232: FutureWarning: Passing literal html to 'read_html' is deprecated and will be removed in a future version. To read from a literal string, wrap it in a 'StringIO' object.\n",
            "  tables_html = pd.read_html(content.text, decimal=\",\", thousands='.')\n"
          ]
        },
        {
          "output_type": "stream",
          "name": "stdout",
          "text": [
            "  ⭐ Setor 'Intermediários Financeiros' é priorizado! (+1 ponto extra)\n",
            "📊 Pontuação final para BBAS3: 9.0/12 (75.00%)\n",
            "\n",
            "🔍 Analisando CXSE3...\n",
            "  ✅ Div.Yield: 7.9% (Critério atendido)\n",
            "  ✅ P/L: 11.04 (Critério atendido)\n",
            "  ✅ ROE: 28.2% (Critério atendido)\n",
            "  ✅ Dív.Brut/ Patrim.: 0.00 (Critério atendido)\n",
            "  ❌ Cresc. Rec.5a: 0.0% (Critério não atendido)\n",
            "  ❌ P/VP: 3.11 (Critério não atendido)\n",
            "  ✅ EV/EBITDA: -331.87 (Critério atendido)\n",
            "  ❌ Mrg. Líq.: 0.0% (Critério não atendido)\n",
            "  ❌ ROIC: -1.0% (Critério não atendido)\n",
            "  ✅ Liq. Corr.: 9.32 (Critério atendido)\n",
            "  ✅ Liq.2meses: R$75.533.100 (Critério atendido)\n",
            "  ⭐ Setor 'Previdência e Seguros' é priorizado! (+1 ponto extra)\n",
            "📊 Pontuação final para CXSE3: 8.0/12 (66.67%)\n",
            "\n",
            "📋 Ranking Final:\n",
            "    Ação Pontuação\n",
            "0  VALE3     83.33\n",
            "2  PETR4     83.33\n",
            "3  BBAS3     75.00\n",
            "1  ITUB4     66.67\n",
            "4  CXSE3     66.67\n",
            "❌ Erro ao salvar o arquivo CSV: Cannot save file into a non-existent directory: '/content/drive/MyDrive/datasets/dados-acoes'\n"
          ]
        },
        {
          "output_type": "stream",
          "name": "stderr",
          "text": [
            "/usr/local/lib/python3.11/dist-packages/fundamentus/detalhes.py:232: FutureWarning: Passing literal html to 'read_html' is deprecated and will be removed in a future version. To read from a literal string, wrap it in a 'StringIO' object.\n",
            "  tables_html = pd.read_html(content.text, decimal=\",\", thousands='.')\n",
            "/usr/local/lib/python3.11/dist-packages/fundamentus/detalhes.py:232: FutureWarning: Passing literal html to 'read_html' is deprecated and will be removed in a future version. To read from a literal string, wrap it in a 'StringIO' object.\n",
            "  tables_html = pd.read_html(content.text, decimal=\",\", thousands='.')\n"
          ]
        }
      ]
    },
    {
      "cell_type": "code",
      "source": [
        "import matplotlib.pyplot as plt\n",
        "\n",
        "def gerar_grafico_por_acao(ticker, criterios_atendidos, total_criterios):\n",
        "    plt.figure(figsize=(6, 4))\n",
        "    plt.bar(['Critérios Esperados', 'Critérios Atendidos'], [total_criterios, criterios_atendidos], color=['gray', 'green'])\n",
        "    plt.ylim(0, total_criterios + 1)\n",
        "    plt.title(f'✅ Desempenho de {ticker}')\n",
        "    plt.ylabel('Número de Critérios')\n",
        "    plt.text(0, total_criterios + 0.1, f'{total_criterios}', ha='center', fontsize=9)\n",
        "    plt.text(1, criterios_atendidos + 0.1, f'{criterios_atendidos}', ha='center', fontsize=9)\n",
        "    plt.tight_layout()\n",
        "    plt.grid(axis='y', linestyle='--', alpha=0.5)\n",
        "    plt.show()"
      ],
      "metadata": {
        "id": "-PhdTowCVnck"
      },
      "execution_count": 41,
      "outputs": []
    },
    {
      "cell_type": "code",
      "source": [
        "df_fund = pd.read_csv('/content/drive/MyDrive/datasets/dados-acoes/pontuacao-dados-fundamentalistas.csv', sep=\";\")\n",
        "df_fund.head()"
      ],
      "metadata": {
        "id": "EVcM1PVALu3P"
      },
      "execution_count": 42,
      "outputs": []
    }
  ]
}