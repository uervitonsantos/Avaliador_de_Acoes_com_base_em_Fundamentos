{
  "nbformat": 4,
  "nbformat_minor": 0,
  "metadata": {
    "colab": {
      "provenance": [],
      "include_colab_link": true
    },
    "kernelspec": {
      "name": "python3",
      "display_name": "Python 3"
    },
    "language_info": {
      "name": "python"
    }
  },
  "cells": [
    {
      "cell_type": "markdown",
      "metadata": {
        "id": "view-in-github",
        "colab_type": "text"
      },
      "source": [
        "<a href=\"https://colab.research.google.com/github/uervitonsantos/Avaliador_de_Acoes_com_base_em_Fundamentos/blob/main/Dados_Fundamentalistas.ipynb\" target=\"_parent\"><img src=\"https://colab.research.google.com/assets/colab-badge.svg\" alt=\"Open In Colab\"/></a>"
      ]
    },
    {
      "cell_type": "markdown",
      "source": [
        "# **Avaliador de Ações com base em Fundamentos**\n"
      ],
      "metadata": {
        "id": "yORpsqQy-0Sl"
      }
    },
    {
      "cell_type": "markdown",
      "source": [
        "Este script Python realiza uma análise fundamentalista de ações da B3 utilizando os dados do site Fundamentus. O objetivo é pontuar e ranquear ações com base em critérios quantitativos de qualidade e valuation.\n",
        "\n",
        "⚙️ Funcionalidades\n",
        "Conecta-se automaticamente ao Fundamentus e carrega os dados financeiros das empresas listadas na bolsa.\n",
        "\n",
        "Aplica critérios básicos e avançados para avaliar a qualidade da empresa, tais como:\n",
        "\n",
        "Dividend Yield\n",
        "\n",
        "Preço/Lucro (P/L)\n",
        "\n",
        "ROE, ROIC, Margem Líquida\n",
        "\n",
        "Endividamento, Liquidez, Crescimento de Receita\n",
        "\n",
        "Para cada critério atendido, a empresa recebe 1 ponto.\n",
        "\n",
        "Ao final, exibe a pontuação de cada empresa e gera um ranking comparativo.\n",
        "\n",
        "⚠️ Penalidade\n",
        "Se uma ação apresentar Dividend Yield abaixo de 6%, ela recebe uma penalização automática, tendo sua pontuação total reduzida em 50%."
      ],
      "metadata": {
        "id": "LFCT-3hQ_A-v"
      }
    },
    {
      "cell_type": "code",
      "execution_count": 1,
      "metadata": {
        "id": "w5YeHXfjK5ax"
      },
      "outputs": [],
      "source": [
        "%%capture\n",
        "!pip install fundamentus"
      ]
    },
    {
      "cell_type": "code",
      "source": [
        "import fundamentus\n",
        "import pandas as pd\n",
        "import time\n",
        "import os"
      ],
      "metadata": {
        "id": "mv0cGDIbLj-E"
      },
      "execution_count": 2,
      "outputs": []
    },
    {
      "cell_type": "code",
      "source": [
        "from google.colab import drive\n",
        "drive.mount('/content/drive')"
      ],
      "metadata": {
        "id": "iHjwO5gFUx4o",
        "outputId": "19945882-9849-48a4-e637-6172a373bcde",
        "colab": {
          "base_uri": "https://localhost:8080/"
        }
      },
      "execution_count": 15,
      "outputs": [
        {
          "output_type": "stream",
          "name": "stdout",
          "text": [
            "Mounted at /content/drive\n"
          ]
        }
      ]
    },
    {
      "cell_type": "code",
      "source": [
        "# --- Caminho do OneDrive (ajuste se necessário) ---\n",
        "caminho_onedrive = os.path.expanduser('/content/drive/MyDrive/datasets/dados-acoes')  # ou outro caminho como 'C:/Users/SeuUsuario/OneDrive/...'\n",
        "nome_arquivo = 'pontuacao-dados-fundamentalistas.csv'\n",
        "caminho_completo = os.path.join(caminho_onedrive, nome_arquivo)"
      ],
      "metadata": {
        "id": "PWmoGyt9HllP"
      },
      "execution_count": 3,
      "outputs": []
    },
    {
      "cell_type": "code",
      "source": [
        "# --- Definição dos critérios e regras (pontuação 1 ponto por critério atendido) ---\n",
        "CRITERIOS_BASICOS = {\n",
        "    'Div.Yield': lambda x: x >= 0.06,                # Preferência por empresas com bons dividendos (>6%)\n",
        "    'P/L': lambda x: 0 < x <= 15,                    # Evita empresas muito caras em relação ao lucro\n",
        "    'ROE': lambda x: x >= 0.10,                      # Retorno sobre patrimônio líquido decente\n",
        "    'Dív.Brut/ Patrim.': lambda x: x < 1,            # Empresas pouco endividadas\n",
        "    'Cresc. Rec.5a': lambda x: x >= 0.05             # Crescimento estável de receitas\n",
        "}"
      ],
      "metadata": {
        "id": "yPcc6cbStd7F"
      },
      "execution_count": 4,
      "outputs": []
    },
    {
      "cell_type": "code",
      "source": [
        "# --- Critérios avançados ---\n",
        "CRITERIOS_AVANCADOS = {\n",
        "    'P/VP': lambda x: x < 2,                         # Preço/Valor Patrimonial baixo\n",
        "    'EV/EBITDA': lambda x: x < 10,                   # Valuation ajustado pela dívida\n",
        "    'Mrg. Líq.': lambda x: x > 0.10,                 # Margem líquida acima de 10%\n",
        "    'ROIC': lambda x: x > 0.10,                      # Retorno sobre capital investido\n",
        "    'Liq. Corr.': lambda x: x > 1.5,                 # Liquidez corrente acima de 1.5\n",
        "    'Liq.2meses': lambda x: x > 1000000              # Liquidez de mercado razoável (> R$1M)\n",
        "}"
      ],
      "metadata": {
        "id": "J5zg53PXzC09"
      },
      "execution_count": 5,
      "outputs": []
    },
    {
      "cell_type": "code",
      "source": [
        "# --- Setores priorizados (com base nos códigos 1, 2, 3, 5, 32, 33, 35, 38, 42) ---\n",
        "SETORES_PRIORIZADOS = {\n",
        "    'Agropecuária',\n",
        "    'Água e Saneamento',\n",
        "    'Alimentos Processados',\n",
        "    'Material de Transporte',\n",
        "    'Energia Elétrica',\n",
        "    'Máquinas e Equipamentos',\n",
        "    'Previdência e Seguros',\n",
        "    'Automóveis e Motocicletas'\n",
        "    'Químicos',\n",
        "    'Construção Civil',\n",
        "    'Telecomunicações',\n",
        "    'Serv.Méd.Hospit. Análises e Diagnósticos',\n",
        "    'Tecidos, Vestuário e Calçados',\n",
        "    'Mineração',\n",
        "    'Madeira e Papel',\n",
        "    'Intermediários Financeiros',\n",
        "    'Petróleo, Gás e Biocombustíveis',\n",
        "}"
      ],
      "metadata": {
        "id": "JESpolq66xVN"
      },
      "execution_count": 6,
      "outputs": []
    },
    {
      "cell_type": "code",
      "source": [
        "# --- Combina os dois grupos de critérios ---\n",
        "CRITERIOS = {**CRITERIOS_BASICOS, **CRITERIOS_AVANCADOS}"
      ],
      "metadata": {
        "id": "CxnDGkvhzGWO"
      },
      "execution_count": 7,
      "outputs": []
    },
    {
      "cell_type": "code",
      "source": [
        "# --- Carrega os dados do Fundamentus ---\n",
        "def carregar_dados_fundamentus():\n",
        "    print(\"⏳ Carregando dados do Fundamentus...\")\n",
        "    df = fundamentus.get_resultado_raw()\n",
        "    print(\"✅ Dados carregados com sucesso!\")\n",
        "    return df"
      ],
      "metadata": {
        "id": "WV6hTxiStjM_"
      },
      "execution_count": 8,
      "outputs": []
    },
    {
      "cell_type": "code",
      "source": [
        "# --- Formata valores numéricos e percentuais ---\n",
        "def formatar_valor(valor, percentual=False):\n",
        "    if percentual:\n",
        "        return f\"{valor * 100:.1f}%\"\n",
        "    elif valor >= 1000:\n",
        "        return f\"R${valor:,.0f}\".replace(\",\", \".\")\n",
        "    return f\"{valor:.2f}\""
      ],
      "metadata": {
        "id": "E1eBke-Otogi"
      },
      "execution_count": 9,
      "outputs": []
    },
    {
      "cell_type": "code",
      "source": [
        "# --- Avalia uma ação com base nos critérios definidos ---\n",
        "def avaliar_acao(ticker, df):\n",
        "    print(f\"\\n🔍 Analisando {ticker}...\")\n",
        "\n",
        "    if ticker not in df.index:\n",
        "        print(f\"⚠️  {ticker} não encontrada nos dados.\")\n",
        "        return 0\n",
        "\n",
        "    dados_acao = df.loc[ticker]\n",
        "    pontuacao = 0\n",
        "    total_criterios = len(CRITERIOS)\n",
        "\n",
        "    for criterio, regra in CRITERIOS.items():\n",
        "        try:\n",
        "            valor = dados_acao[criterio]\n",
        "\n",
        "            if pd.isna(valor):\n",
        "                print(f\"  ⚠️  '{criterio}' é NaN. Ignorando.\")\n",
        "                continue\n",
        "\n",
        "            # Define quais critérios são percentuais\n",
        "            criterios_percentuais = ['Div.Yield', 'ROE', 'Cresc. Rec.5a', 'Mrg. Líq.', 'ROIC']\n",
        "            valor_formatado = formatar_valor(valor, percentual=criterio in criterios_percentuais)\n",
        "\n",
        "            if regra(valor):\n",
        "                pontuacao += 1\n",
        "                print(f\"  ✅ {criterio}: {valor_formatado} (Critério atendido)\")\n",
        "            else:\n",
        "                print(f\"  ❌ {criterio}: {valor_formatado} (Critério não atendido)\")\n",
        "\n",
        "        except KeyError:\n",
        "            print(f\"  ⚠️  Coluna '{criterio}' não encontrada.\")\n",
        "        except Exception as e:\n",
        "            print(f\"  ❌ Erro ao processar '{criterio}': {e}\")\n",
        "\n",
        "    # # --- Verifica setor priorizado ---\n",
        "    try:\n",
        "        df_papel = fundamentus.get_papel(ticker)\n",
        "        setor = df_papel.loc[ticker, 'Setor']\n",
        "\n",
        "        if setor in SETORES_PRIORIZADOS:\n",
        "            pontuacao += 1\n",
        "            print(f\"  ⭐ Setor '{setor}' é priorizado! (+1 ponto extra)\")\n",
        "        else:\n",
        "            print(f\"  ℹ️  Setor '{setor}' não está entre os priorizados.\")\n",
        "\n",
        "    except Exception as e:\n",
        "        print(f\"  ⚠️  Erro ao verificar setor de {ticker}: {e}\")\n",
        "\n",
        "    # --- Penalização por Div.Yield baixo (<6%) ---\n",
        "    try:\n",
        "        dy = dados_acao['Div.Yield']\n",
        "        if not pd.isna(dy) and dy < 0.06:\n",
        "            pontuacao_original = pontuacao\n",
        "            pontuacao = max(0, pontuacao * 0.5)\n",
        "            print(f\"  ⚠️ Dividend Yield abaixo de 6%: {dy:.2%} → Penalização aplicada (50% da pontuação)\")\n",
        "            print(f\"     Pontuação ajustada de {pontuacao_original:.1f} para {pontuacao:.1f}\")\n",
        "    except Exception as e:\n",
        "        print(f\"  ⚠️ Erro ao verificar Div.Yield para penalização: {e}\")\n",
        "\n",
        "    percentual_total = (pontuacao / (total_criterios + 1)) * 100\n",
        "    print(f\"📊 Pontuação final para {ticker}: {pontuacao:.1f}/{total_criterios + 1} ({percentual_total:.2f}%)\")\n",
        "\n",
        "    return percentual_total"
      ],
      "metadata": {
        "id": "-X6pMiZjtsU2"
      },
      "execution_count": 10,
      "outputs": []
    },
    {
      "cell_type": "code",
      "source": [
        "# --- Execução principal ---\n",
        "def executar_avaliacao(lista_acoes):\n",
        "    df = carregar_dados_fundamentus()\n",
        "    resultados = []\n",
        "\n",
        "    for acao in lista_acoes:\n",
        "        pontuacao = avaliar_acao(acao, df)\n",
        "        resultados.append((acao, pontuacao))\n",
        "\n",
        "    print(\"\\n📋 Ranking Final:\")\n",
        "    df_resultado = pd.DataFrame(resultados, columns=[\"Ação\", \"Pontuação\"]).sort_values(by=\"Pontuação\", ascending=False)\n",
        "    df_resultado['Pontuação'] = df_resultado['Pontuação'].map(lambda x: f\"{x:.2f}\")\n",
        "\n",
        "    print(df_resultado)\n",
        "\n",
        "    # --- Salvando CSV ---\n",
        "    try:\n",
        "        df_resultado.to_csv(caminho_completo, index=False, sep=';', encoding='utf-8-sig')\n",
        "        print(f\"\\n💾 Arquivo CSV salvo com sucesso em: {caminho_completo}\")\n",
        "    except Exception as e:\n",
        "        print(f\"❌ Erro ao salvar o arquivo CSV: {e}\")\n",
        "\n",
        "    return df_resultado"
      ],
      "metadata": {
        "id": "FbK9cUxccytN"
      },
      "execution_count": 16,
      "outputs": []
    },
    {
      "cell_type": "code",
      "source": [
        "# --- Executar se for o módulo principal ---\n",
        "if __name__ == \"__main__\":\n",
        "    acoes = ['PETR4', 'ITUB4', 'VALE3', 'WEGE3', 'ABEV3']\n",
        "    executar_avaliacao(acoes)"
      ],
      "metadata": {
        "colab": {
          "base_uri": "https://localhost:8080/"
        },
        "id": "K45MsMLGt3Gr",
        "outputId": "6bbac216-faa1-4440-b05c-d54af50aae64"
      },
      "execution_count": 17,
      "outputs": [
        {
          "output_type": "stream",
          "name": "stdout",
          "text": [
            "⏳ Carregando dados do Fundamentus...\n"
          ]
        },
        {
          "output_type": "stream",
          "name": "stderr",
          "text": [
            "/usr/local/lib/python3.11/dist-packages/fundamentus/resultado.py:50: FutureWarning: Passing literal html to 'read_html' is deprecated and will be removed in a future version. To read from a literal string, wrap it in a 'StringIO' object.\n",
            "  df = pd.read_html(content.text, decimal=\",\", thousands='.')[0]\n"
          ]
        },
        {
          "output_type": "stream",
          "name": "stdout",
          "text": [
            "✅ Dados carregados com sucesso!\n",
            "\n",
            "🔍 Analisando PETR4...\n",
            "  ✅ Div.Yield: 17.1% (Critério atendido)\n",
            "  ✅ P/L: 8.79 (Critério atendido)\n",
            "  ✅ ROE: 12.2% (Critério atendido)\n",
            "  ✅ Dív.Brut/ Patrim.: 0.94 (Critério atendido)\n",
            "  ✅ Cresc. Rec.5a: 11.5% (Critério atendido)\n",
            "  ✅ P/VP: 1.07 (Critério atendido)\n",
            "  ✅ EV/EBITDA: 2.68 (Critério atendido)\n",
            "  ❌ Mrg. Líq.: 9.8% (Critério não atendido)\n",
            "  ✅ ROIC: 19.6% (Critério atendido)\n",
            "  ❌ Liq. Corr.: 0.72 (Critério não atendido)\n",
            "  ✅ Liq.2meses: R$1.335.570.000 (Critério atendido)\n",
            "  ⭐ Setor 'Petróleo, Gás e Biocombustíveis' é priorizado! (+1 ponto extra)\n",
            "📊 Pontuação final para PETR4: 10.0/12 (83.33%)\n",
            "\n",
            "🔍 Analisando ITUB4...\n",
            "  ✅ Div.Yield: 6.8% (Critério atendido)\n",
            "  ✅ P/L: 10.03 (Critério atendido)\n",
            "  ✅ ROE: 20.3% (Critério atendido)\n",
            "  ✅ Dív.Brut/ Patrim.: 0.00 (Critério atendido)\n",
            "  ✅ Cresc. Rec.5a: 79.8% (Critério atendido)\n",
            "  ❌ P/VP: 2.04 (Critério não atendido)\n",
            "  ✅ EV/EBITDA: 0.00 (Critério atendido)\n",
            "  ❌ Mrg. Líq.: 0.0% (Critério não atendido)\n",
            "  ❌ ROIC: 0.0% (Critério não atendido)\n",
            "  ❌ Liq. Corr.: 0.00 (Critério não atendido)\n",
            "  ✅ Liq.2meses: R$833.633.000 (Critério atendido)\n",
            "  ⭐ Setor 'Intermediários Financeiros' é priorizado! (+1 ponto extra)\n",
            "📊 Pontuação final para ITUB4: 8.0/12 (66.67%)\n",
            "\n",
            "🔍 Analisando VALE3...\n",
            "  ✅ Div.Yield: 9.5% (Critério atendido)\n",
            "  ✅ P/L: 7.20 (Critério atendido)\n",
            "  ✅ ROE: 15.6% (Critério atendido)\n",
            "  ✅ Dív.Brut/ Patrim.: 0.46 (Critério atendido)\n",
            "  ❌ Cresc. Rec.5a: -6.0% (Critério não atendido)\n",
            "  ✅ P/VP: 1.12 (Critério atendido)\n",
            "  ✅ EV/EBITDA: 3.35 (Critério atendido)\n",
            "  ✅ Mrg. Líq.: 14.3% (Critério atendido)\n",
            "  ✅ ROIC: 16.6% (Critério atendido)\n",
            "  ❌ Liq. Corr.: 1.11 (Critério não atendido)\n",
            "  ✅ Liq.2meses: R$948.011.000 (Critério atendido)\n"
          ]
        },
        {
          "output_type": "stream",
          "name": "stderr",
          "text": [
            "/usr/local/lib/python3.11/dist-packages/fundamentus/detalhes.py:232: FutureWarning: Passing literal html to 'read_html' is deprecated and will be removed in a future version. To read from a literal string, wrap it in a 'StringIO' object.\n",
            "  tables_html = pd.read_html(content.text, decimal=\",\", thousands='.')\n",
            "/usr/local/lib/python3.11/dist-packages/fundamentus/detalhes.py:232: FutureWarning: Passing literal html to 'read_html' is deprecated and will be removed in a future version. To read from a literal string, wrap it in a 'StringIO' object.\n",
            "  tables_html = pd.read_html(content.text, decimal=\",\", thousands='.')\n",
            "/usr/local/lib/python3.11/dist-packages/fundamentus/detalhes.py:232: FutureWarning: Passing literal html to 'read_html' is deprecated and will be removed in a future version. To read from a literal string, wrap it in a 'StringIO' object.\n",
            "  tables_html = pd.read_html(content.text, decimal=\",\", thousands='.')\n"
          ]
        },
        {
          "output_type": "stream",
          "name": "stdout",
          "text": [
            "  ⭐ Setor 'Mineração' é priorizado! (+1 ponto extra)\n",
            "📊 Pontuação final para VALE3: 10.0/12 (83.33%)\n",
            "\n",
            "🔍 Analisando WEGE3...\n",
            "  ❌ Div.Yield: 2.1% (Critério não atendido)\n",
            "  ❌ P/L: 27.92 (Critério não atendido)\n",
            "  ✅ ROE: 29.4% (Critério atendido)\n",
            "  ✅ Dív.Brut/ Patrim.: 0.15 (Critério atendido)\n",
            "  ✅ Cresc. Rec.5a: 19.4% (Critério atendido)\n",
            "  ❌ P/VP: 8.21 (Critério não atendido)\n",
            "  ❌ EV/EBITDA: 17.72 (Critério não atendido)\n",
            "  ✅ Mrg. Líq.: 16.4% (Critério atendido)\n",
            "  ✅ ROIC: 29.2% (Critério atendido)\n",
            "  ✅ Liq. Corr.: 1.71 (Critério atendido)\n",
            "  ✅ Liq.2meses: R$375.264.000 (Critério atendido)\n",
            "  ⭐ Setor 'Máquinas e Equipamentos' é priorizado! (+1 ponto extra)\n",
            "  ⚠️ Dividend Yield abaixo de 6%: 2.11% → Penalização aplicada (50% da pontuação)\n",
            "     Pontuação ajustada de 8.0 para 4.0\n",
            "📊 Pontuação final para WEGE3: 4.0/12 (33.33%)\n",
            "\n",
            "🔍 Analisando ABEV3...\n",
            "  ✅ Div.Yield: 6.8% (Critério atendido)\n",
            "  ✅ P/L: 14.78 (Critério atendido)\n",
            "  ✅ ROE: 15.3% (Critério atendido)\n",
            "  ✅ Dív.Brut/ Patrim.: 0.03 (Critério atendido)\n",
            "  ✅ Cresc. Rec.5a: 8.7% (Critério atendido)\n",
            "  ❌ P/VP: 2.26 (Critério não atendido)\n",
            "  ✅ EV/EBITDA: 7.25 (Critério atendido)\n",
            "  ✅ Mrg. Líq.: 16.2% (Critério atendido)\n",
            "  ✅ ROIC: 19.2% (Critério atendido)\n",
            "  ❌ Liq. Corr.: 1.11 (Critério não atendido)\n",
            "  ✅ Liq.2meses: R$360.651.000 (Critério atendido)\n"
          ]
        },
        {
          "output_type": "stream",
          "name": "stderr",
          "text": [
            "/usr/local/lib/python3.11/dist-packages/fundamentus/detalhes.py:232: FutureWarning: Passing literal html to 'read_html' is deprecated and will be removed in a future version. To read from a literal string, wrap it in a 'StringIO' object.\n",
            "  tables_html = pd.read_html(content.text, decimal=\",\", thousands='.')\n",
            "/usr/local/lib/python3.11/dist-packages/fundamentus/detalhes.py:232: FutureWarning: Passing literal html to 'read_html' is deprecated and will be removed in a future version. To read from a literal string, wrap it in a 'StringIO' object.\n",
            "  tables_html = pd.read_html(content.text, decimal=\",\", thousands='.')\n"
          ]
        },
        {
          "output_type": "stream",
          "name": "stdout",
          "text": [
            "  ℹ️  Setor 'Bebidas' não está entre os priorizados.\n",
            "📊 Pontuação final para ABEV3: 9.0/12 (75.00%)\n",
            "\n",
            "📋 Ranking Final:\n",
            "    Ação Pontuação\n",
            "0  PETR4     83.33\n",
            "2  VALE3     83.33\n",
            "4  ABEV3     75.00\n",
            "1  ITUB4     66.67\n",
            "3  WEGE3     33.33\n",
            "\n",
            "💾 Arquivo CSV salvo com sucesso em: /content/drive/MyDrive/datasets/dados-acoes/pontuacao-dados-fundamentalistas.csv\n"
          ]
        }
      ]
    },
    {
      "cell_type": "code",
      "source": [
        "import matplotlib.pyplot as plt\n",
        "\n",
        "def gerar_grafico_por_acao(ticker, criterios_atendidos, total_criterios):\n",
        "    plt.figure(figsize=(6, 4))\n",
        "    plt.bar(['Critérios Esperados', 'Critérios Atendidos'], [total_criterios, criterios_atendidos], color=['gray', 'green'])\n",
        "    plt.ylim(0, total_criterios + 1)\n",
        "    plt.title(f'✅ Desempenho de {ticker}')\n",
        "    plt.ylabel('Número de Critérios')\n",
        "    plt.text(0, total_criterios + 0.1, f'{total_criterios}', ha='center', fontsize=9)\n",
        "    plt.text(1, criterios_atendidos + 0.1, f'{criterios_atendidos}', ha='center', fontsize=9)\n",
        "    plt.tight_layout()\n",
        "    plt.grid(axis='y', linestyle='--', alpha=0.5)\n",
        "    plt.show()"
      ],
      "metadata": {
        "id": "-PhdTowCVnck"
      },
      "execution_count": 18,
      "outputs": []
    },
    {
      "cell_type": "code",
      "source": [
        "df_fund = pd.read_csv('/content/drive/MyDrive/datasets/dados-acoes/pontuacao-dados-fundamentalistas.csv', sep=\";\")\n",
        "df_fund.head()"
      ],
      "metadata": {
        "id": "EVcM1PVALu3P",
        "outputId": "cb5c7c0e-0c18-4ad8-c07f-a387f0d771d6",
        "colab": {
          "base_uri": "https://localhost:8080/",
          "height": 206
        }
      },
      "execution_count": 19,
      "outputs": [
        {
          "output_type": "execute_result",
          "data": {
            "text/plain": [
              "    Ação  Pontuação\n",
              "0  PETR4      83.33\n",
              "1  VALE3      83.33\n",
              "2  ABEV3      75.00\n",
              "3  ITUB4      66.67\n",
              "4  WEGE3      33.33"
            ],
            "text/html": [
              "\n",
              "  <div id=\"df-42e04940-b9c0-4c94-94dd-7eabdd54b0ce\" class=\"colab-df-container\">\n",
              "    <div>\n",
              "<style scoped>\n",
              "    .dataframe tbody tr th:only-of-type {\n",
              "        vertical-align: middle;\n",
              "    }\n",
              "\n",
              "    .dataframe tbody tr th {\n",
              "        vertical-align: top;\n",
              "    }\n",
              "\n",
              "    .dataframe thead th {\n",
              "        text-align: right;\n",
              "    }\n",
              "</style>\n",
              "<table border=\"1\" class=\"dataframe\">\n",
              "  <thead>\n",
              "    <tr style=\"text-align: right;\">\n",
              "      <th></th>\n",
              "      <th>Ação</th>\n",
              "      <th>Pontuação</th>\n",
              "    </tr>\n",
              "  </thead>\n",
              "  <tbody>\n",
              "    <tr>\n",
              "      <th>0</th>\n",
              "      <td>PETR4</td>\n",
              "      <td>83.33</td>\n",
              "    </tr>\n",
              "    <tr>\n",
              "      <th>1</th>\n",
              "      <td>VALE3</td>\n",
              "      <td>83.33</td>\n",
              "    </tr>\n",
              "    <tr>\n",
              "      <th>2</th>\n",
              "      <td>ABEV3</td>\n",
              "      <td>75.00</td>\n",
              "    </tr>\n",
              "    <tr>\n",
              "      <th>3</th>\n",
              "      <td>ITUB4</td>\n",
              "      <td>66.67</td>\n",
              "    </tr>\n",
              "    <tr>\n",
              "      <th>4</th>\n",
              "      <td>WEGE3</td>\n",
              "      <td>33.33</td>\n",
              "    </tr>\n",
              "  </tbody>\n",
              "</table>\n",
              "</div>\n",
              "    <div class=\"colab-df-buttons\">\n",
              "\n",
              "  <div class=\"colab-df-container\">\n",
              "    <button class=\"colab-df-convert\" onclick=\"convertToInteractive('df-42e04940-b9c0-4c94-94dd-7eabdd54b0ce')\"\n",
              "            title=\"Convert this dataframe to an interactive table.\"\n",
              "            style=\"display:none;\">\n",
              "\n",
              "  <svg xmlns=\"http://www.w3.org/2000/svg\" height=\"24px\" viewBox=\"0 -960 960 960\">\n",
              "    <path d=\"M120-120v-720h720v720H120Zm60-500h600v-160H180v160Zm220 220h160v-160H400v160Zm0 220h160v-160H400v160ZM180-400h160v-160H180v160Zm440 0h160v-160H620v160ZM180-180h160v-160H180v160Zm440 0h160v-160H620v160Z\"/>\n",
              "  </svg>\n",
              "    </button>\n",
              "\n",
              "  <style>\n",
              "    .colab-df-container {\n",
              "      display:flex;\n",
              "      gap: 12px;\n",
              "    }\n",
              "\n",
              "    .colab-df-convert {\n",
              "      background-color: #E8F0FE;\n",
              "      border: none;\n",
              "      border-radius: 50%;\n",
              "      cursor: pointer;\n",
              "      display: none;\n",
              "      fill: #1967D2;\n",
              "      height: 32px;\n",
              "      padding: 0 0 0 0;\n",
              "      width: 32px;\n",
              "    }\n",
              "\n",
              "    .colab-df-convert:hover {\n",
              "      background-color: #E2EBFA;\n",
              "      box-shadow: 0px 1px 2px rgba(60, 64, 67, 0.3), 0px 1px 3px 1px rgba(60, 64, 67, 0.15);\n",
              "      fill: #174EA6;\n",
              "    }\n",
              "\n",
              "    .colab-df-buttons div {\n",
              "      margin-bottom: 4px;\n",
              "    }\n",
              "\n",
              "    [theme=dark] .colab-df-convert {\n",
              "      background-color: #3B4455;\n",
              "      fill: #D2E3FC;\n",
              "    }\n",
              "\n",
              "    [theme=dark] .colab-df-convert:hover {\n",
              "      background-color: #434B5C;\n",
              "      box-shadow: 0px 1px 3px 1px rgba(0, 0, 0, 0.15);\n",
              "      filter: drop-shadow(0px 1px 2px rgba(0, 0, 0, 0.3));\n",
              "      fill: #FFFFFF;\n",
              "    }\n",
              "  </style>\n",
              "\n",
              "    <script>\n",
              "      const buttonEl =\n",
              "        document.querySelector('#df-42e04940-b9c0-4c94-94dd-7eabdd54b0ce button.colab-df-convert');\n",
              "      buttonEl.style.display =\n",
              "        google.colab.kernel.accessAllowed ? 'block' : 'none';\n",
              "\n",
              "      async function convertToInteractive(key) {\n",
              "        const element = document.querySelector('#df-42e04940-b9c0-4c94-94dd-7eabdd54b0ce');\n",
              "        const dataTable =\n",
              "          await google.colab.kernel.invokeFunction('convertToInteractive',\n",
              "                                                    [key], {});\n",
              "        if (!dataTable) return;\n",
              "\n",
              "        const docLinkHtml = 'Like what you see? Visit the ' +\n",
              "          '<a target=\"_blank\" href=https://colab.research.google.com/notebooks/data_table.ipynb>data table notebook</a>'\n",
              "          + ' to learn more about interactive tables.';\n",
              "        element.innerHTML = '';\n",
              "        dataTable['output_type'] = 'display_data';\n",
              "        await google.colab.output.renderOutput(dataTable, element);\n",
              "        const docLink = document.createElement('div');\n",
              "        docLink.innerHTML = docLinkHtml;\n",
              "        element.appendChild(docLink);\n",
              "      }\n",
              "    </script>\n",
              "  </div>\n",
              "\n",
              "\n",
              "    <div id=\"df-835c20dd-b467-45a4-a195-8bfbef0624ac\">\n",
              "      <button class=\"colab-df-quickchart\" onclick=\"quickchart('df-835c20dd-b467-45a4-a195-8bfbef0624ac')\"\n",
              "                title=\"Suggest charts\"\n",
              "                style=\"display:none;\">\n",
              "\n",
              "<svg xmlns=\"http://www.w3.org/2000/svg\" height=\"24px\"viewBox=\"0 0 24 24\"\n",
              "     width=\"24px\">\n",
              "    <g>\n",
              "        <path d=\"M19 3H5c-1.1 0-2 .9-2 2v14c0 1.1.9 2 2 2h14c1.1 0 2-.9 2-2V5c0-1.1-.9-2-2-2zM9 17H7v-7h2v7zm4 0h-2V7h2v10zm4 0h-2v-4h2v4z\"/>\n",
              "    </g>\n",
              "</svg>\n",
              "      </button>\n",
              "\n",
              "<style>\n",
              "  .colab-df-quickchart {\n",
              "      --bg-color: #E8F0FE;\n",
              "      --fill-color: #1967D2;\n",
              "      --hover-bg-color: #E2EBFA;\n",
              "      --hover-fill-color: #174EA6;\n",
              "      --disabled-fill-color: #AAA;\n",
              "      --disabled-bg-color: #DDD;\n",
              "  }\n",
              "\n",
              "  [theme=dark] .colab-df-quickchart {\n",
              "      --bg-color: #3B4455;\n",
              "      --fill-color: #D2E3FC;\n",
              "      --hover-bg-color: #434B5C;\n",
              "      --hover-fill-color: #FFFFFF;\n",
              "      --disabled-bg-color: #3B4455;\n",
              "      --disabled-fill-color: #666;\n",
              "  }\n",
              "\n",
              "  .colab-df-quickchart {\n",
              "    background-color: var(--bg-color);\n",
              "    border: none;\n",
              "    border-radius: 50%;\n",
              "    cursor: pointer;\n",
              "    display: none;\n",
              "    fill: var(--fill-color);\n",
              "    height: 32px;\n",
              "    padding: 0;\n",
              "    width: 32px;\n",
              "  }\n",
              "\n",
              "  .colab-df-quickchart:hover {\n",
              "    background-color: var(--hover-bg-color);\n",
              "    box-shadow: 0 1px 2px rgba(60, 64, 67, 0.3), 0 1px 3px 1px rgba(60, 64, 67, 0.15);\n",
              "    fill: var(--button-hover-fill-color);\n",
              "  }\n",
              "\n",
              "  .colab-df-quickchart-complete:disabled,\n",
              "  .colab-df-quickchart-complete:disabled:hover {\n",
              "    background-color: var(--disabled-bg-color);\n",
              "    fill: var(--disabled-fill-color);\n",
              "    box-shadow: none;\n",
              "  }\n",
              "\n",
              "  .colab-df-spinner {\n",
              "    border: 2px solid var(--fill-color);\n",
              "    border-color: transparent;\n",
              "    border-bottom-color: var(--fill-color);\n",
              "    animation:\n",
              "      spin 1s steps(1) infinite;\n",
              "  }\n",
              "\n",
              "  @keyframes spin {\n",
              "    0% {\n",
              "      border-color: transparent;\n",
              "      border-bottom-color: var(--fill-color);\n",
              "      border-left-color: var(--fill-color);\n",
              "    }\n",
              "    20% {\n",
              "      border-color: transparent;\n",
              "      border-left-color: var(--fill-color);\n",
              "      border-top-color: var(--fill-color);\n",
              "    }\n",
              "    30% {\n",
              "      border-color: transparent;\n",
              "      border-left-color: var(--fill-color);\n",
              "      border-top-color: var(--fill-color);\n",
              "      border-right-color: var(--fill-color);\n",
              "    }\n",
              "    40% {\n",
              "      border-color: transparent;\n",
              "      border-right-color: var(--fill-color);\n",
              "      border-top-color: var(--fill-color);\n",
              "    }\n",
              "    60% {\n",
              "      border-color: transparent;\n",
              "      border-right-color: var(--fill-color);\n",
              "    }\n",
              "    80% {\n",
              "      border-color: transparent;\n",
              "      border-right-color: var(--fill-color);\n",
              "      border-bottom-color: var(--fill-color);\n",
              "    }\n",
              "    90% {\n",
              "      border-color: transparent;\n",
              "      border-bottom-color: var(--fill-color);\n",
              "    }\n",
              "  }\n",
              "</style>\n",
              "\n",
              "      <script>\n",
              "        async function quickchart(key) {\n",
              "          const quickchartButtonEl =\n",
              "            document.querySelector('#' + key + ' button');\n",
              "          quickchartButtonEl.disabled = true;  // To prevent multiple clicks.\n",
              "          quickchartButtonEl.classList.add('colab-df-spinner');\n",
              "          try {\n",
              "            const charts = await google.colab.kernel.invokeFunction(\n",
              "                'suggestCharts', [key], {});\n",
              "          } catch (error) {\n",
              "            console.error('Error during call to suggestCharts:', error);\n",
              "          }\n",
              "          quickchartButtonEl.classList.remove('colab-df-spinner');\n",
              "          quickchartButtonEl.classList.add('colab-df-quickchart-complete');\n",
              "        }\n",
              "        (() => {\n",
              "          let quickchartButtonEl =\n",
              "            document.querySelector('#df-835c20dd-b467-45a4-a195-8bfbef0624ac button');\n",
              "          quickchartButtonEl.style.display =\n",
              "            google.colab.kernel.accessAllowed ? 'block' : 'none';\n",
              "        })();\n",
              "      </script>\n",
              "    </div>\n",
              "\n",
              "    </div>\n",
              "  </div>\n"
            ],
            "application/vnd.google.colaboratory.intrinsic+json": {
              "type": "dataframe",
              "variable_name": "df_fund",
              "summary": "{\n  \"name\": \"df_fund\",\n  \"rows\": 5,\n  \"fields\": [\n    {\n      \"column\": \"A\\u00e7\\u00e3o\",\n      \"properties\": {\n        \"dtype\": \"string\",\n        \"num_unique_values\": 5,\n        \"samples\": [\n          \"VALE3\",\n          \"WEGE3\",\n          \"ABEV3\"\n        ],\n        \"semantic_type\": \"\",\n        \"description\": \"\"\n      }\n    },\n    {\n      \"column\": \"Pontua\\u00e7\\u00e3o\",\n      \"properties\": {\n        \"dtype\": \"number\",\n        \"std\": 20.749966746961306,\n        \"min\": 33.33,\n        \"max\": 83.33,\n        \"num_unique_values\": 4,\n        \"samples\": [\n          75.0,\n          33.33,\n          83.33\n        ],\n        \"semantic_type\": \"\",\n        \"description\": \"\"\n      }\n    }\n  ]\n}"
            }
          },
          "metadata": {},
          "execution_count": 19
        }
      ]
    }
  ]
}